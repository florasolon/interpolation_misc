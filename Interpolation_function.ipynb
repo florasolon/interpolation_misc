{
 "cells": [
  {
   "cell_type": "code",
   "execution_count": 34,
   "metadata": {},
   "outputs": [],
   "source": [
    "import numpy as np\n",
    "import matplotlib.pyplot as plt\n",
    "from matplotlib import cm\n",
    "import my_functions as mf\n",
    "from matplotlib.colors import LogNorm\n",
    "from matplotlib import cm\n",
    "from scipy.ndimage import gaussian_filter"
   ]
  },
  {
   "cell_type": "code",
   "execution_count": 35,
   "metadata": {},
   "outputs": [],
   "source": [
    "%matplotlib inline"
   ]
  },
  {
   "cell_type": "code",
   "execution_count": 36,
   "metadata": {},
   "outputs": [],
   "source": [
    "xmin = 1.\n",
    "xmax = 110.\n",
    "xn = 21\n",
    "x = np.linspace(xmin,xmax,xn)\n",
    "\n",
    "ymin = 1.\n",
    "ymax = 110.\n",
    "yn = 21\n",
    "y = np.linspace(ymin,ymax,yn)\n",
    "\n",
    "zmin = 1\n",
    "zmax = 110\n",
    "zn =  21\n",
    "z = np.linspace(zmin,zmax,zn)\n",
    "\n",
    "X,Y,Z = np.meshgrid(x,y,z)\n",
    "\n",
    "#rho_m = (((X-5)*(X-5))+((Y-2)*(Y-2))+((Z-10)*(Z-10)))\n",
    "\n",
    "rho_m = 7*X*Y*Z/(X**2 + Y**2 + Z**2)"
   ]
  },
  {
   "cell_type": "code",
   "execution_count": 37,
   "metadata": {},
   "outputs": [],
   "source": [
    "xx,yy,zz,x1,y1,z1,rho = mf.select_area(0,100,0,100,0,100,x,y,z,rho_m)"
   ]
  },
  {
   "cell_type": "code",
   "execution_count": 38,
   "metadata": {},
   "outputs": [
    {
     "name": "stdout",
     "output_type": "stream",
     "text": [
      "18 18 18\n"
     ]
    }
   ],
   "source": [
    "rho1 = np.ravel(rho)\n",
    "lx,ly,lz = rho.shape\n",
    "print(lx,ly,lz)"
   ]
  },
  {
   "cell_type": "code",
   "execution_count": 39,
   "metadata": {},
   "outputs": [],
   "source": [
    "rho_sm = gaussian_filter(rho, sigma=1.)\n",
    "rho_sm1 = np.ravel(rho_sm)"
   ]
  },
  {
   "cell_type": "code",
   "execution_count": 40,
   "metadata": {},
   "outputs": [
    {
     "data": {
      "image/png": "[encoded data removed]",
      "text/plain": [
       "<Figure size 864x288 with 4 Axes>"
      ]
     },
     "metadata": {},
     "output_type": "display_data"
    }
   ],
   "source": [
    "mx,my = np.meshgrid(y1,x1)\n",
    "mx1,my1 = np.meshgrid(z1,y1)\n",
    "\n",
    "plt.figure(figsize=(12,4))\n",
    "plt.subplot(1,2,1)\n",
    "plt.pcolor(mx,my,rho[:,:,5])\n",
    "plt.colorbar()\n",
    "\n",
    "plt.subplot(1,2,2)\n",
    "plt.pcolor(my1,mx1,rho[5,:,:])\n",
    "\n",
    "plt.colorbar()\n",
    "plt.show()"
   ]
  },
  {
   "cell_type": "code",
   "execution_count": 62,
   "metadata": {},
   "outputs": [],
   "source": [
    "# Control points\n",
    "\n",
    "c1 = np.copy(x1)+1\n",
    "c2 = np.copy(y1)+1\n",
    "c3 = np.copy(z1)+1\n",
    "\n",
    "Xc,Yc,Zc = np.meshgrid(c1,c2,c3)\n",
    "\n",
    "\n",
    "xc = np.ravel(Xc)\n",
    "yc = np.ravel(Yc)\n",
    "zc = np.ravel(Zc)\n",
    "\n",
    "ln = xc.size"
   ]
  },
  {
   "cell_type": "code",
   "execution_count": 63,
   "metadata": {},
   "outputs": [
    {
     "data": {
      "text/plain": [
       "(5832, 5832, 5832)"
      ]
     },
     "execution_count": 63,
     "metadata": {},
     "output_type": "execute_result"
    }
   ],
   "source": [
    "xc.size,yc.size,zc.size"
   ]
  },
  {
   "cell_type": "code",
   "execution_count": 64,
   "metadata": {},
   "outputs": [
    {
     "data": {
      "text/plain": [
       "(5832, 5832, 5832)"
      ]
     },
     "execution_count": 64,
     "metadata": {},
     "output_type": "execute_result"
    }
   ],
   "source": [
    "xx.size,yy.size,zz.size"
   ]
  },
  {
   "cell_type": "code",
   "execution_count": 65,
   "metadata": {},
   "outputs": [],
   "source": [
    "# Calculate interpolation function\n",
    "t = 0.8\n",
    "A = mf.calc_A_by_column(xx,yy,zz,xc,yc,zc,1,t)"
   ]
  },
  {
   "cell_type": "code",
   "execution_count": 66,
   "metadata": {},
   "outputs": [],
   "source": [
    "H = np.dot(A.T,A)"
   ]
  },
  {
   "cell_type": "code",
   "execution_count": 67,
   "metadata": {},
   "outputs": [],
   "source": [
    "h0 = np.trace(H)/ln"
   ]
  },
  {
   "cell_type": "code",
   "execution_count": 68,
   "metadata": {},
   "outputs": [
    {
     "name": "stdout",
     "output_type": "stream",
     "text": [
      "5.720735904537189e-05\n"
     ]
    }
   ],
   "source": [
    "mu = 1E-8*h0\n",
    "print( mu)"
   ]
  },
  {
   "cell_type": "code",
   "execution_count": 69,
   "metadata": {},
   "outputs": [],
   "source": [
    "p = np.linalg.solve(H+(mu*np.identity(ln)),np.dot(A.T,rho_sm1))"
   ]
  },
  {
   "cell_type": "code",
   "execution_count": 70,
   "metadata": {},
   "outputs": [],
   "source": [
    "# #Interpolation points\n",
    "\n",
    "dx1 = (x1[1:]+x1[:-1])/2\n",
    "dy1 = (y1[1:]+y1[:-1])/2\n",
    "dz1 = (z1[1:]+z1[:-1])/2\n",
    "\n",
    "x0n = len(dx1)\n",
    "y0n = len(dy1)\n",
    "z0n = len(dz1)\n",
    "\n",
    "X0,Y0,Z0 = np.meshgrid(dx1,dy1,dz1)\n",
    "\n",
    "\n",
    "x0 = np.ravel(X0)\n",
    "y0 = np.ravel(Y0)\n",
    "z0 = np.ravel(Z0)\n",
    "\n",
    "rho_0real = 7*X0*Y0*Z0/(X0**2 + Y0**2 + Z0**2)"
   ]
  },
  {
   "cell_type": "code",
   "execution_count": 71,
   "metadata": {},
   "outputs": [
    {
     "data": {
      "text/plain": [
       "(4913, 4913, 4913)"
      ]
     },
     "execution_count": 71,
     "metadata": {},
     "output_type": "execute_result"
    }
   ],
   "source": [
    "x0.size,y0.size,z0.size"
   ]
  },
  {
   "cell_type": "code",
   "execution_count": 72,
   "metadata": {},
   "outputs": [
    {
     "data": {
      "text/plain": [
       "(5832, 5832, 5832)"
      ]
     },
     "execution_count": 72,
     "metadata": {},
     "output_type": "execute_result"
    }
   ],
   "source": [
    "xc.size,yc.size,zc.size"
   ]
  },
  {
   "cell_type": "code",
   "execution_count": 73,
   "metadata": {},
   "outputs": [
    {
     "name": "stdout",
     "output_type": "stream",
     "text": [
      "[ 1.    6.45 11.9  17.35 22.8  28.25 33.7  39.15 44.6  50.05 55.5  60.95\n",
      " 66.4  71.85 77.3  82.75 88.2  93.65]\n",
      "[ 3.725  3.725  3.725 ... 90.925 90.925 90.925]\n"
     ]
    }
   ],
   "source": [
    "print(x1)\n",
    "print(x0)"
   ]
  },
  {
   "cell_type": "code",
   "execution_count": 74,
   "metadata": {},
   "outputs": [
    {
     "data": {
      "text/plain": [
       "[<matplotlib.lines.Line2D at 0x7fd638193d68>]"
      ]
     },
     "execution_count": 74,
     "metadata": {},
     "output_type": "execute_result"
    },
    {
     "data": {
      "image/png": "[encoded data removed]",
      "text/plain": [
       "<Figure size 360x360 with 1 Axes>"
      ]
     },
     "metadata": {},
     "output_type": "display_data"
    }
   ],
   "source": [
    "plt.figure(figsize=(5,5))\n",
    "plt.plot(x0,y0,'ro')\n",
    "plt.plot(xc,yc,'ko')"
   ]
  },
  {
   "cell_type": "code",
   "execution_count": 75,
   "metadata": {},
   "outputs": [],
   "source": [
    "t = 0.8"
   ]
  },
  {
   "cell_type": "code",
   "execution_count": 76,
   "metadata": {},
   "outputs": [],
   "source": [
    "# Interpolate funtion rho in points x0, y0, z0\n",
    "\n",
    "A0 = mf.calc_A_by_column(x0,y0,z0,xc,yc,zc,1,t)"
   ]
  },
  {
   "cell_type": "code",
   "execution_count": 77,
   "metadata": {},
   "outputs": [],
   "source": [
    "# Interpolated matrix\n",
    "rho0 = np.dot(A0,p)\n",
    "rho0_m = rho0.reshape((x0n,y0n,z0n))"
   ]
  },
  {
   "cell_type": "code",
   "execution_count": 78,
   "metadata": {},
   "outputs": [
    {
     "data": {
      "image/png": "[encoded data removed]",
      "text/plain": [
       "<Figure size 1008x720 with 12 Axes>"
      ]
     },
     "metadata": {},
     "output_type": "display_data"
    }
   ],
   "source": [
    "mf.plot_function_6sub(50,50,50,dx1,dy1,dz1,dx1,dy1,dz1,rho_0real,rho0_m)"
   ]
  },
  {
   "cell_type": "code",
   "execution_count": null,
   "metadata": {},
   "outputs": [],
   "source": []
  },
  {
   "cell_type": "code",
   "execution_count": null,
   "metadata": {},
   "outputs": [],
   "source": []
  }
 ],
 "metadata": {
  "kernelspec": {
   "display_name": "Python 3",
   "language": "python",
   "name": "python3"
  },
  "language_info": {
   "codemirror_mode": {
    "name": "ipython",
    "version": 3
   },
   "file_extension": ".py",
   "mimetype": "text/x-python",
   "name": "python",
   "nbconvert_exporter": "python",
   "pygments_lexer": "ipython3",
   "version": "3.6.5"
  }
 },
 "nbformat": 4,
 "nbformat_minor": 2
}
