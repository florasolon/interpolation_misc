{
 "cells": [
  {
   "cell_type": "code",
   "execution_count": 1,
   "metadata": {},
   "outputs": [],
   "source": [
    "#from mpl_toolkits.basemap import Basemap\n",
    "import numpy as np\n",
    "import utm\n",
    "import matplotlib.pyplot as plt\n",
    "from matplotlib.colors import LogNorm\n",
    "from matplotlib import cm\n",
    "import linecache\n",
    "import my_functions as mf\n",
    "from scipy.ndimage import gaussian_filter"
   ]
  },
  {
   "cell_type": "code",
   "execution_count": 2,
   "metadata": {},
   "outputs": [],
   "source": [
    "%matplotlib inline"
   ]
  },
  {
   "cell_type": "code",
   "execution_count": 3,
   "metadata": {},
   "outputs": [],
   "source": [
    "file = '/home/flora/Dropbox/IUEM/bolivia_project/ModEM/prior_models/testes_forward/inv/inv2/inv_datasynt01_NLCG_145.rho'"
   ]
  },
  {
   "cell_type": "markdown",
   "metadata": {},
   "source": [
    "### Open model1 - modem "
   ]
  },
  {
   "cell_type": "code",
   "execution_count": 4,
   "metadata": {},
   "outputs": [],
   "source": [
    "ld=linecache.getline(file, 2)\n",
    "lx=linecache.getline(file, 3)\n",
    "ly=linecache.getline(file, 4)\n",
    "lz=linecache.getline(file, 5)\n",
    "dim=ld.split()\n",
    "nx=int(dim[0])\n",
    "ny=int(dim[1])\n",
    "nz=int(dim[2])\n",
    "#vecteur de taille de maille\n",
    "hx=np.hstack(float(lx.split()[i]) for i in np.arange(nx) )\n",
    "hy=np.hstack(float(ly.split()[i]) for i in np.arange(ny) )\n",
    "hz=np.hstack(float(lz.split()[i]) for i in np.arange(nz) )\n",
    "\n",
    "#model values\n",
    "ind=7\n",
    "rho = np.zeros((nx,ny,nz))\n",
    "\n",
    "for k in range(nz):\n",
    "    for j in range(ny):\n",
    "        l=linecache.getline(file, ind)\n",
    "        rho[:,j,k]=np.hstack(float(l.split()[i]) for i in np.arange(nx) )[::-1]\n",
    "        ind = ind+1        \n",
    "    ind = ind+1"
   ]
  },
  {
   "cell_type": "markdown",
   "metadata": {},
   "source": [
    "use coordinates"
   ]
  },
  {
   "cell_type": "code",
   "execution_count": 6,
   "metadata": {},
   "outputs": [],
   "source": [
    "refE,refN,zone,l = utm.from_latlon(-23.965, -69.475)\n",
    "\n",
    "#Position centre des mailes (utm & lat/lon)\n",
    "ctx=np.ones(len(hx))\n",
    "for i in np.arange(len(hx)):\n",
    "    ctx[i]=(sum(hx[0:i])+sum(hx[0:i+1]))/2+refN\n",
    "    \n",
    "cty=np.ones(len(hy))\n",
    "for i in np.arange(len(hy)):\n",
    "    cty[i]=(sum(hy[0:i])+sum(hy[0:i+1]))/2+refE\n",
    "\n",
    "ctz=np.ones(len(hz))\n",
    "for i in np.arange(len(hz)):\n",
    "    ctz[i]=(sum(hz[0:i])+sum(hz[0:i+1]))/2\n",
    "\n",
    "#ctz = ctz*(-1)\n",
    "\n",
    "Xla=np.zeros(len(ctx))\n",
    "Ylon=np.zeros(len(cty))\n",
    "\n",
    "for j in range(len(cty)):\n",
    "    for i in range(len(ctx)):\n",
    "        U=utm.to_latlon(cty[j],ctx[i],zone,l)\n",
    "        Xla[i]=U[0]\n",
    "        Ylon[j]=U[1]\n",
    "        \n",
    "\n",
    "#mlg,mla=np.meshgrid(Ylon,Xla)\n",
    "#mx,my = np.meshgrid(cty,ctx)\n",
    "\n",
    "#mx1,my1 = np.meshgrid(ctz,Ylon)"
   ]
  },
  {
   "cell_type": "markdown",
   "metadata": {},
   "source": [
    "### Select area from model"
   ]
  },
  {
   "cell_type": "code",
   "execution_count": 7,
   "metadata": {},
   "outputs": [],
   "source": [
    "#north\n",
    "xmin = 7516000.\n",
    "xmax = 7522000.\n",
    "#east\n",
    "ymin = 625000.\n",
    "ymax = 634000.\n",
    "\n",
    "zmin = 0.\n",
    "zmax = 3000.\n",
    "\n",
    "# #east\n",
    "# xmin = -22.48\n",
    "# xmax = -22.35\n",
    "# #north\n",
    "# ymin = -67.85\n",
    "# ymax = -67.70\n",
    "\n",
    "# zmin = 0.\n",
    "# zmax = 5000."
   ]
  },
  {
   "cell_type": "code",
   "execution_count": 8,
   "metadata": {},
   "outputs": [],
   "source": [
    "x1,y1,z1,x,y,z,rho_n = mf.select_area(xmin,xmax,ymin,ymax,zmin,zmax,ctx,cty,ctz,rho)"
   ]
  },
  {
   "cell_type": "code",
   "execution_count": 9,
   "metadata": {},
   "outputs": [
    {
     "name": "stdout",
     "output_type": "stream",
     "text": [
      "(13, 20, 42)\n"
     ]
    }
   ],
   "source": [
    "print rho_n.shape"
   ]
  },
  {
   "cell_type": "code",
   "execution_count": 10,
   "metadata": {},
   "outputs": [
    {
     "name": "stdout",
     "output_type": "stream",
     "text": [
      "(54, 69, 80)\n"
     ]
    }
   ],
   "source": [
    "print rho.shape"
   ]
  },
  {
   "cell_type": "code",
   "execution_count": 11,
   "metadata": {},
   "outputs": [],
   "source": [
    "mx,my = np.meshgrid(y,x)\n",
    "mx1,my1 = np.meshgrid(z,y)"
   ]
  },
  {
   "cell_type": "code",
   "execution_count": 12,
   "metadata": {},
   "outputs": [],
   "source": [
    "# import MT stations coordinates\n",
    "path = '/home/flora/Dropbox/IUEM/bolivia_project/utils/coord'\n",
    "data = np.loadtxt(path,dtype='float',usecols=(0,1,2))\n",
    "\n",
    "stn = data[:,0]\n",
    "lat = data[:,1]\n",
    "lon = data[:,2]\n",
    "\n",
    "Xla=np.zeros(len(lat))\n",
    "Ylon=np.zeros(len(lon))\n",
    "for j in range(len(lat)):\n",
    "    for i in range(len(lon)):\n",
    "        U=utm.from_latlon(lat[j],lon[i],zone)\n",
    "        Xla[i]=U[0]\n",
    "        Ylon[j]=U[1]\n",
    "\n"
   ]
  },
  {
   "cell_type": "code",
   "execution_count": 13,
   "metadata": {},
   "outputs": [
    {
     "data": {
      "image/png": "[encoded data removed]",
      "text/plain": [
       "<matplotlib.figure.Figure at 0x7f11899352d0>"
      ]
     },
     "metadata": {},
     "output_type": "display_data"
    }
   ],
   "source": [
    "cmap = plt.cm.jet\n",
    "cmap_r = mf.reverse_colourmap(cmap)\n",
    "\n",
    "model = (np.e**rho_n) \n",
    "z_plot = np.argmin(np.abs(z-1250))\n",
    "x_plot = np.argmin(np.abs(x-7519000))\n",
    "\n",
    "plt.figure(figsize=(16,4))\n",
    "\n",
    "plt.subplot(1,2,1)\n",
    "plt.pcolor(mx,my,model[:,:,z_plot],cmap=cmap_r,norm = LogNorm(vmin=1, vmax=400))\n",
    "plt.plot(Xla,Ylon,'ko')\n",
    "plt.colorbar()\n",
    "\n",
    "plt.subplot(1,2,2)\n",
    "plt.pcolor(my1,mx1,model[x_plot,:,:],cmap=cmap_r,norm = LogNorm(vmin=1, vmax=400))\n",
    "plt.ylim(3000,0)\n",
    "plt.colorbar()\n",
    "plt.show()"
   ]
  },
  {
   "cell_type": "markdown",
   "metadata": {},
   "source": [
    "### Interpolation "
   ]
  },
  {
   "cell_type": "code",
   "execution_count": 14,
   "metadata": {},
   "outputs": [],
   "source": [
    "# Control points\n",
    "\n",
    "xc = np.copy(x1)+10\n",
    "yc = np.copy(y1)+10\n",
    "zc = np.copy(z1)+10\n",
    "\n",
    "ln = xc.size"
   ]
  },
  {
   "cell_type": "code",
   "execution_count": 16,
   "metadata": {},
   "outputs": [
    {
     "name": "stdout",
     "output_type": "stream",
     "text": [
      "10920 10920 10920\n"
     ]
    }
   ],
   "source": [
    "print xc.size,yc.size,zc.size"
   ]
  },
  {
   "cell_type": "code",
   "execution_count": 17,
   "metadata": {},
   "outputs": [
    {
     "name": "stdout",
     "output_type": "stream",
     "text": [
      "10920 10920 10920\n"
     ]
    }
   ],
   "source": [
    "print x1.size,y1.size,z1.size"
   ]
  },
  {
   "cell_type": "code",
   "execution_count": 18,
   "metadata": {},
   "outputs": [],
   "source": [
    "#Interpolation points\n",
    "\n",
    "# dx1 = (x[1:]+x[:-1])/2\n",
    "# dy1 = (y[1:]+y[:-1])/2\n",
    "# #dz = (z[1:]+z[:-1])/2\n",
    "# dz1 = z+20\n",
    "\n",
    "# dx = np.hstack(([x[0],dx1,x[-1]]))\n",
    "# dy = np.hstack(([y[0],dy1,y[-1]]))\n",
    "# dz = np.hstack(([z[0],dz1,z[-1]]))\n",
    "\n",
    "# x0n = len(dx1)\n",
    "# y0n = len(dy1)\n",
    "# z0n = len(dz1)\n",
    "\n",
    "# X0,Y0,Z0 = np.meshgrid(dx1,dy1,dz1)\n",
    "# x0 = np.ravel(X0)\n",
    "# y0 = np.ravel(Y0)\n",
    "# z0 = np.ravel(Z0)\n",
    "\n",
    "x0 = np.copy(x1)\n",
    "y0 = np.copy(y1)\n",
    "z0 = np.copy(z1)"
   ]
  },
  {
   "cell_type": "code",
   "execution_count": 19,
   "metadata": {},
   "outputs": [
    {
     "name": "stdout",
     "output_type": "stream",
     "text": [
      "10920 10920 10920\n",
      "10920 10920 10920\n"
     ]
    }
   ],
   "source": [
    "print x0.size,y0.size,z0.size\n",
    "print x1.size,y1.size,z1.size"
   ]
  },
  {
   "cell_type": "code",
   "execution_count": 20,
   "metadata": {},
   "outputs": [],
   "source": [
    "# Calculate interpolation function\n",
    "t = 0.75\n",
    "A = mf.calc_A_by_column(x1,y1,z1,xc,yc,zc,1,t)\n",
    "model_n = np.ravel(model)\n",
    "            "
   ]
  },
  {
   "cell_type": "code",
   "execution_count": 21,
   "metadata": {},
   "outputs": [],
   "source": [
    "H = np.dot(A.T,A)"
   ]
  },
  {
   "cell_type": "code",
   "execution_count": 22,
   "metadata": {},
   "outputs": [],
   "source": [
    "h0 = np.trace(H)/ln"
   ]
  },
  {
   "cell_type": "code",
   "execution_count": 23,
   "metadata": {},
   "outputs": [
    {
     "name": "stdout",
     "output_type": "stream",
     "text": [
      "0.00010915762636939826\n"
     ]
    }
   ],
   "source": [
    "mu = 1E-8*h0\n",
    "print mu"
   ]
  },
  {
   "cell_type": "code",
   "execution_count": 24,
   "metadata": {},
   "outputs": [],
   "source": [
    "p = np.linalg.solve(H+(mu*np.identity(ln)),np.dot(A.T,model_n))"
   ]
  },
  {
   "cell_type": "code",
   "execution_count": 25,
   "metadata": {},
   "outputs": [],
   "source": [
    "# Interpolate funtion rho in points x0, y0, z0\n",
    "\n",
    "A0 = mf.calc_A_by_column(x0,y0,z0,xc,yc,zc,1,t)"
   ]
  },
  {
   "cell_type": "code",
   "execution_count": 26,
   "metadata": {},
   "outputs": [],
   "source": [
    "# Interpolated matrix\n",
    "rho0 = np.dot(A0,p)\n",
    "rho0_m = rho0.reshape((rho_n.shape))"
   ]
  },
  {
   "cell_type": "code",
   "execution_count": 27,
   "metadata": {},
   "outputs": [
    {
     "data": {
      "image/png": "[encoded data removed]",
      "text/plain": [
       "<matplotlib.figure.Figure at 0x7f1189934a50>"
      ]
     },
     "metadata": {},
     "output_type": "display_data"
    }
   ],
   "source": [
    "mf.plot_models_6sub(7520000,622500,2500,x,y,z,x,y,z,model,rho0_m)"
   ]
  }
 ],
 "metadata": {
  "kernelspec": {
   "display_name": "Python 2",
   "language": "python",
   "name": "python2"
  },
  "language_info": {
   "codemirror_mode": {
    "name": "ipython",
    "version": 2
   },
   "file_extension": ".py",
   "mimetype": "text/x-python",
   "name": "python",
   "nbconvert_exporter": "python",
   "pygments_lexer": "ipython2",
   "version": "2.7.14"
  }
 },
 "nbformat": 4,
 "nbformat_minor": 2
}
