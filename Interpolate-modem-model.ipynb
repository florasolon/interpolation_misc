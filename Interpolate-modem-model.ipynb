{
 "cells": [
  {
   "cell_type": "code",
   "execution_count": 1,
   "metadata": {},
   "outputs": [],
   "source": [
    "import numpy as np\n",
    "import utm\n",
    "import matplotlib.pyplot as plt\n",
    "from matplotlib.colors import LogNorm\n",
    "from matplotlib import cm\n",
    "import linecache\n",
    "import my_functions as mf\n",
    "from scipy.ndimage import gaussian_filter\n",
    "from scipy.interpolate import RegularGridInterpolator"
   ]
  },
  {
   "cell_type": "code",
   "execution_count": 2,
   "metadata": {},
   "outputs": [],
   "source": [
    "%matplotlib inline"
   ]
  },
  {
   "cell_type": "code",
   "execution_count": 3,
   "metadata": {},
   "outputs": [],
   "source": [
    "file = '/home/flora/Documents/FLORA/interpolation_misc/inv_datasynt05_NLCG_063.rho'"
   ]
  },
  {
   "cell_type": "markdown",
   "metadata": {},
   "source": [
    "### Open model1 - modem "
   ]
  },
  {
   "cell_type": "code",
   "execution_count": 4,
   "metadata": {},
   "outputs": [],
   "source": [
    "ld=linecache.getline(file, 2)\n",
    "lx=linecache.getline(file, 3)\n",
    "ly=linecache.getline(file, 4)\n",
    "lz=linecache.getline(file, 5)\n",
    "dim=ld.split()\n",
    "nx=int(dim[0])\n",
    "ny=int(dim[1])\n",
    "nz=int(dim[2])\n",
    "#vecteur de taille de maille\n",
    "hx=np.hstack(float(lx.split()[i]) for i in np.arange(nx) )\n",
    "hy=np.hstack(float(ly.split()[i]) for i in np.arange(ny) )\n",
    "hz=np.hstack(float(lz.split()[i]) for i in np.arange(nz) )\n",
    "\n",
    "#model values\n",
    "ind=7\n",
    "rho = np.zeros((nx,ny,nz))\n",
    "\n",
    "for k in range(nz):\n",
    "    for j in range(ny):\n",
    "        l=linecache.getline(file, ind)\n",
    "        rho[:,j,k]=np.hstack(float(l.split()[i]) for i in np.arange(nx) )[::-1]\n",
    "        ind = ind+1        \n",
    "    ind = ind+1\n",
    "    \n",
    "rho = (np.e**rho) "
   ]
  },
  {
   "cell_type": "code",
   "execution_count": 5,
   "metadata": {},
   "outputs": [
    {
     "name": "stdout",
     "output_type": "stream",
     "text": [
      "54 69 80\n"
     ]
    }
   ],
   "source": [
    "print(nx,ny,nz)"
   ]
  },
  {
   "cell_type": "code",
   "execution_count": 6,
   "metadata": {},
   "outputs": [
    {
     "name": "stdout",
     "output_type": "stream",
     "text": [
      "(54, 69, 80)\n"
     ]
    }
   ],
   "source": [
    "print(rho.shape)"
   ]
  },
  {
   "cell_type": "markdown",
   "metadata": {},
   "source": [
    "#### Transform coordinates - lat lon to utm "
   ]
  },
  {
   "cell_type": "code",
   "execution_count": 7,
   "metadata": {},
   "outputs": [],
   "source": [
    "refE,refN,zone,l = utm.from_latlon(-23.965, -69.475)\n",
    "\n",
    "#Position centre des mailes (utm & lat/lon)\n",
    "ctx=np.ones(len(hx))\n",
    "for i in np.arange(len(hx)):\n",
    "    ctx[i]=(sum(hx[0:i])+sum(hx[0:i+1]))/2+refN\n",
    "    \n",
    "cty=np.ones(len(hy))\n",
    "for i in np.arange(len(hy)):\n",
    "    cty[i]=(sum(hy[0:i])+sum(hy[0:i+1]))/2+refE\n",
    "\n",
    "ctz=np.ones(len(hz))\n",
    "for i in np.arange(len(hz)):\n",
    "    ctz[i]=(sum(hz[0:i])+sum(hz[0:i+1]))/2\n",
    "\n",
    "#ctz = ctz*(-1)\n",
    "\n",
    "Xla=np.zeros(len(ctx))\n",
    "Ylon=np.zeros(len(cty))\n",
    "\n",
    "# for j in range(len(cty)):\n",
    "#     for i in range(len(ctx)):\n",
    "#         U=utm.to_latlon(cty[j],ctx[i],zone,l)\n",
    "#         Xla[i]=U[0]\n",
    "#         Ylon[j]=U[1]\n"
   ]
  },
  {
   "cell_type": "markdown",
   "metadata": {},
   "source": [
    "### Select area from model"
   ]
  },
  {
   "cell_type": "code",
   "execution_count": 48,
   "metadata": {},
   "outputs": [],
   "source": [
    "# #north\n",
    "# xmin = 7515000.\n",
    "# xmax = 7524000.\n",
    "# #east\n",
    "# ymin = 618000.\n",
    "# ymax = 634000.\n",
    "\n",
    "# zmin = 0.\n",
    "# zmax = 3000.\n",
    "\n",
    "#north\n",
    "xmin = 7517000.\n",
    "xmax = 7521000.\n",
    "#east\n",
    "ymin = 626000.\n",
    "ymax = 632000.\n",
    "\n",
    "zmin = 0.\n",
    "zmax = 5000."
   ]
  },
  {
   "cell_type": "code",
   "execution_count": 49,
   "metadata": {},
   "outputs": [],
   "source": [
    "xgrid,ygrid,zgrid,xa,ya,za,rho_n = mf.select_area(xmin,xmax,ymin,ymax,zmin,zmax,ctx,cty,ctz,rho)"
   ]
  },
  {
   "cell_type": "code",
   "execution_count": 50,
   "metadata": {},
   "outputs": [
    {
     "name": "stdout",
     "output_type": "stream",
     "text": [
      "(10, 15, 51)\n"
     ]
    }
   ],
   "source": [
    "print(rho_n.shape)"
   ]
  },
  {
   "cell_type": "code",
   "execution_count": 51,
   "metadata": {},
   "outputs": [
    {
     "name": "stdout",
     "output_type": "stream",
     "text": [
      "(54, 69, 80)\n"
     ]
    }
   ],
   "source": [
    "print(rho.shape)"
   ]
  },
  {
   "cell_type": "code",
   "execution_count": 52,
   "metadata": {},
   "outputs": [],
   "source": [
    "rho1 = np.ravel(rho_n)\n",
    "lx,ly,lz = rho_n.shape"
   ]
  },
  {
   "cell_type": "code",
   "execution_count": 53,
   "metadata": {},
   "outputs": [],
   "source": [
    "# import MT stations coordinates\n",
    "path = '/home/flora/Documents/FLORA/interpolation_misc/coord'\n",
    "data = np.loadtxt(path,dtype='float',usecols=(0,1,2))\n",
    "\n",
    "stn = data[:,0]\n",
    "lat = data[:,1]\n",
    "lon = data[:,2]\n",
    "\n",
    "Xla=np.zeros(len(lat))\n",
    "Ylon=np.zeros(len(lon))\n",
    "for j in range(len(lat)):\n",
    "    for i in range(len(lon)):\n",
    "        U=utm.from_latlon(lat[j],lon[i],zone)\n",
    "        Xla[i]=U[0]\n",
    "        Ylon[j]=U[1]\n",
    "\n"
   ]
  },
  {
   "cell_type": "code",
   "execution_count": 54,
   "metadata": {},
   "outputs": [
    {
     "data": {
      "image/png": "[encoded data removed]",
      "text/plain": [
       "<Figure size 1152x288 with 4 Axes>"
      ]
     },
     "metadata": {},
     "output_type": "display_data"
    }
   ],
   "source": [
    "cmap = plt.cm.jet\n",
    "cmap_r = mf.reverse_colourmap(cmap)\n",
    "\n",
    "east,north = np.meshgrid(ya,xa)\n",
    "depth,east1 = np.meshgrid(za,ya)\n",
    "\n",
    "z_plot = np.argmin(np.abs(za-750))\n",
    "x_plot = np.argmin(np.abs(xa-7519000))\n",
    "\n",
    "plt.figure(figsize=(16,4))\n",
    "\n",
    "plt.subplot(1,2,1)\n",
    "plt.pcolor(east,north,rho_n[:,:,z_plot],cmap=cmap_r,norm = LogNorm(vmin=1, vmax=400))\n",
    "plt.plot(Xla,Ylon,'ko')\n",
    "#plt.plot(x1,y1,'ko')\n",
    "#plt.plot(x0,y0,'ro')\n",
    "plt.colorbar()\n",
    "\n",
    "plt.subplot(1,2,2)\n",
    "plt.pcolor(east1,depth,rho_n[x_plot,:,:],cmap=cmap_r,norm = LogNorm(vmin=1, vmax=400))\n",
    "plt.ylim(np.max(za),0)\n",
    "plt.colorbar()\n",
    "plt.show()"
   ]
  },
  {
   "cell_type": "markdown",
   "metadata": {},
   "source": [
    "### Define control points for interpolation "
   ]
  },
  {
   "cell_type": "code",
   "execution_count": 55,
   "metadata": {},
   "outputs": [],
   "source": [
    "# Control points\n",
    "\n",
    "# c1 = np.copy(xa)+1\n",
    "# c2 = np.copy(ya)+1\n",
    "# c3 = np.copy(za)+1\n",
    "\n",
    "xcn = lx\n",
    "ycn = ly\n",
    "zcn = lz\n",
    "\n",
    "c1 = np.linspace(xmin,xmax,xcn)\n",
    "c2 = np.linspace(ymin,ymax,ycn)\n",
    "c3 = np.linspace(zmin,zmax,zcn)\n",
    "\n",
    "Xc,Yc,Zc = np.meshgrid(c1,c2,c3,indexing='ij')\n",
    "\n",
    "\n",
    "xc = np.ravel(Xc)\n",
    "yc = np.ravel(Yc)\n",
    "zc = np.ravel(Zc)\n",
    "\n",
    "ln = xc.size"
   ]
  },
  {
   "cell_type": "code",
   "execution_count": 56,
   "metadata": {},
   "outputs": [
    {
     "name": "stdout",
     "output_type": "stream",
     "text": [
      "7650 7650 7650\n"
     ]
    }
   ],
   "source": [
    "print(xc.size,yc.size,zc.size)"
   ]
  },
  {
   "cell_type": "code",
   "execution_count": 57,
   "metadata": {},
   "outputs": [
    {
     "name": "stdout",
     "output_type": "stream",
     "text": [
      "7650 7650 7650\n"
     ]
    }
   ],
   "source": [
    "print(xgrid.size,ygrid.size,zgrid.size)"
   ]
  },
  {
   "cell_type": "markdown",
   "metadata": {},
   "source": [
    "### Calculate interpolation matrix A"
   ]
  },
  {
   "cell_type": "code",
   "execution_count": 107,
   "metadata": {},
   "outputs": [],
   "source": [
    "# Calculate interpolation function\n",
    "\n",
    "t = 0.00000095\n",
    "#t = 1E-4\n",
    "A = mf.calc_A_by_column(xgrid,ygrid,zgrid,xc,yc,zc,1,t)"
   ]
  },
  {
   "cell_type": "code",
   "execution_count": 108,
   "metadata": {},
   "outputs": [],
   "source": [
    "H = np.dot(A.T,A)"
   ]
  },
  {
   "cell_type": "code",
   "execution_count": 109,
   "metadata": {},
   "outputs": [],
   "source": [
    "h0 = np.trace(H)/ln"
   ]
  },
  {
   "cell_type": "code",
   "execution_count": 110,
   "metadata": {},
   "outputs": [
    {
     "name": "stdout",
     "output_type": "stream",
     "text": [
      "3.766375751717538e-09\n"
     ]
    }
   ],
   "source": [
    "mu = 1E-12*h0\n",
    "print(mu)"
   ]
  },
  {
   "cell_type": "code",
   "execution_count": 111,
   "metadata": {},
   "outputs": [],
   "source": [
    "p = np.linalg.solve(H+(mu*np.identity(ln)),np.dot(A.T,rho1))"
   ]
  },
  {
   "cell_type": "markdown",
   "metadata": {},
   "source": [
    "Check if A recovers data"
   ]
  },
  {
   "cell_type": "code",
   "execution_count": 112,
   "metadata": {},
   "outputs": [],
   "source": [
    "rho0 = np.dot(A,p)\n",
    "rho0_m = rho0.reshape((lx,ly,lz))"
   ]
  },
  {
   "cell_type": "code",
   "execution_count": 113,
   "metadata": {},
   "outputs": [
    {
     "data": {
      "text/plain": [
       "816.986232355237"
      ]
     },
     "execution_count": 113,
     "metadata": {},
     "output_type": "execute_result"
    }
   ],
   "source": [
    "np.linalg.norm(rho_n-rho0_m)"
   ]
  },
  {
   "cell_type": "code",
   "execution_count": 114,
   "metadata": {},
   "outputs": [
    {
     "data": {
      "image/png": "[encoded data removed]",
      "text/plain": [
       "<Figure size 1152x576 with 8 Axes>"
      ]
     },
     "metadata": {},
     "output_type": "display_data"
    }
   ],
   "source": [
    "cmap = plt.cm.jet\n",
    "cmap_r = mf.reverse_colourmap(cmap)\n",
    "\n",
    "east,north = np.meshgrid(ya,xa)\n",
    "depth,east1 = np.meshgrid(za,ya)\n",
    "\n",
    "plt.figure(figsize=(16,8))\n",
    "\n",
    "plt.subplot(2,2,1)\n",
    "plt.pcolor(east,north,rho_n[:,:,z_plot],cmap=cmap_r,norm = LogNorm(vmin=1, vmax=400))\n",
    "#plt.plot(x1,y1,'ko')\n",
    "#plt.plot(x0,y0,'ro')\n",
    "plt.colorbar()\n",
    "\n",
    "plt.subplot(2,2,2)\n",
    "plt.pcolor(east,north,rho0_m[:,:,z_plot],cmap=cmap_r,norm = LogNorm(vmin=1, vmax=400))\n",
    "#plt.plot(x1,y1,'ko')\n",
    "#plt.plot(x0,y0,'ro')\n",
    "plt.colorbar()\n",
    "\n",
    "plt.subplot(2,2,3)\n",
    "plt.pcolor(east1,depth,rho_n[x_plot,:,:],cmap=cmap_r,norm = LogNorm(vmin=1, vmax=400))\n",
    "plt.ylim(np.max(za),0)\n",
    "plt.colorbar()\n",
    "\n",
    "plt.subplot(2,2,4)\n",
    "plt.pcolor(east1,depth,rho0_m[x_plot,:,:],cmap=cmap_r,norm = LogNorm(vmin=1, vmax=400))\n",
    "plt.ylim(np.max(za),0)\n",
    "plt.colorbar()\n",
    "\n",
    "plt.show()"
   ]
  },
  {
   "cell_type": "markdown",
   "metadata": {},
   "source": [
    "### Interpolation points "
   ]
  },
  {
   "cell_type": "code",
   "execution_count": 115,
   "metadata": {},
   "outputs": [],
   "source": [
    "# #Interpolation points\n",
    "\n",
    "dx0 = (xa[1:]+xa[:-1])/2\n",
    "dy0 = (ya[1:]+ya[:-1])/2\n",
    "dz0 = (za[1:]+za[:-1])/2\n",
    "\n",
    "# dx1 = np.copy(x1)\n",
    "# dy1 = np.copy(y1)\n",
    "# dz1 = np.copy(z1)\n",
    "\n",
    "x0n = len(dx0)\n",
    "y0n = len(dy0)\n",
    "z0n = len(dz0)\n",
    "\n",
    "X0,Y0,Z0 = np.meshgrid(dx0,dy0,dz0,indexing='ij')\n",
    "\n",
    "x0 = np.ravel(X0)\n",
    "y0 = np.ravel(Y0)\n",
    "z0 = np.ravel(Z0)\n"
   ]
  },
  {
   "cell_type": "code",
   "execution_count": 116,
   "metadata": {},
   "outputs": [
    {
     "data": {
      "text/plain": [
       "[<matplotlib.lines.Line2D at 0x7f7023f34908>]"
      ]
     },
     "execution_count": 116,
     "metadata": {},
     "output_type": "execute_result"
    },
    {
     "data": {
      "image/png": "[encoded data removed]",
      "text/plain": [
       "<Figure size 360x360 with 1 Axes>"
      ]
     },
     "metadata": {},
     "output_type": "display_data"
    }
   ],
   "source": [
    "plt.figure(figsize=(5,5))\n",
    "plt.plot(x0,y0,'ro')\n",
    "plt.plot(xgrid,ygrid,'ko')"
   ]
  },
  {
   "cell_type": "markdown",
   "metadata": {},
   "source": [
    "### Calculate matrix A at interpolation points"
   ]
  },
  {
   "cell_type": "code",
   "execution_count": 117,
   "metadata": {},
   "outputs": [],
   "source": [
    "A0 = mf.calc_A_by_column(x0,y0,z0,xc,yc,zc,1,t)"
   ]
  },
  {
   "cell_type": "code",
   "execution_count": 118,
   "metadata": {},
   "outputs": [],
   "source": [
    "# Interpolated data\n",
    "\n",
    "rho0 = np.dot(A0,p)\n",
    "rho0_m = rho0.reshape(x0n,y0n,z0n)"
   ]
  },
  {
   "cell_type": "code",
   "execution_count": null,
   "metadata": {},
   "outputs": [],
   "source": []
  },
  {
   "cell_type": "code",
   "execution_count": 119,
   "metadata": {},
   "outputs": [],
   "source": [
    "#mf.plot_models_6sub(7520000,622500,800,x,y,z,dx1,dy1,dz,model,(rho0_m))"
   ]
  },
  {
   "cell_type": "code",
   "execution_count": 120,
   "metadata": {},
   "outputs": [
    {
     "data": {
      "image/png": "[encoded data removed]",
      "text/plain": [
       "<Figure size 1152x576 with 8 Axes>"
      ]
     },
     "metadata": {},
     "output_type": "display_data"
    }
   ],
   "source": [
    "east,north = np.meshgrid(ya,xa)\n",
    "depth,east1 = np.meshgrid(za,ya)\n",
    "\n",
    "plt.figure(figsize=(16,8))\n",
    "\n",
    "plt.subplot(2,2,1)\n",
    "plt.pcolor(east,north,rho_n[:,:,z_plot],cmap=cmap_r,norm = LogNorm(vmin=1, vmax=400))\n",
    "#plt.plot(x1,y1,'ko')\n",
    "#plt.plot(x0,y0,'ro')\n",
    "plt.colorbar()\n",
    "\n",
    "plt.subplot(2,2,2)\n",
    "plt.pcolor(east,north,rho0_m[:,:,z_plot],cmap=cmap_r,norm = LogNorm(vmin=1, vmax=400))\n",
    "#plt.plot(x1,y1,'ko')\n",
    "#plt.plot(x0,y0,'ro')\n",
    "plt.colorbar()\n",
    "\n",
    "plt.subplot(2,2,3)\n",
    "plt.pcolor(east1,depth,rho_n[x_plot,:,:],cmap=cmap_r,norm = LogNorm(vmin=1, vmax=400))\n",
    "plt.ylim(np.max(za),0)\n",
    "plt.colorbar()\n",
    "\n",
    "plt.subplot(2,2,4)\n",
    "plt.pcolor(east1,depth,rho0_m[x_plot,:,:],cmap=cmap_r,norm = LogNorm(vmin=1, vmax=400))\n",
    "plt.ylim(np.max(za),0)\n",
    "plt.colorbar()\n",
    "\n",
    "plt.show()"
   ]
  },
  {
   "cell_type": "code",
   "execution_count": 121,
   "metadata": {},
   "outputs": [
    {
     "data": {
      "text/plain": [
       "4"
      ]
     },
     "execution_count": 121,
     "metadata": {},
     "output_type": "execute_result"
    }
   ],
   "source": [
    "x_plot"
   ]
  },
  {
   "cell_type": "markdown",
   "metadata": {},
   "source": [
    "### Python interpolating function  "
   ]
  },
  {
   "cell_type": "code",
   "execution_count": 122,
   "metadata": {},
   "outputs": [],
   "source": [
    "my_interpolating_function = RegularGridInterpolator((xa, ya, za), rho_n, method='linear')"
   ]
  },
  {
   "cell_type": "code",
   "execution_count": 123,
   "metadata": {},
   "outputs": [],
   "source": [
    "pts = np.array([])\n",
    "\n",
    "for i in range(len(x0)):\n",
    "    aux = np.array([x0[i],y0[i],z0[i]])\n",
    "    pts = np.hstack((pts,aux))\n",
    "    \n",
    "pts = pts.reshape(len(x0),3)"
   ]
  },
  {
   "cell_type": "code",
   "execution_count": 124,
   "metadata": {},
   "outputs": [],
   "source": [
    "rho2 = my_interpolating_function(pts)"
   ]
  },
  {
   "cell_type": "code",
   "execution_count": 125,
   "metadata": {},
   "outputs": [],
   "source": [
    "rho2_m = rho2.reshape(x0n,y0n,z0n)"
   ]
  },
  {
   "cell_type": "code",
   "execution_count": 127,
   "metadata": {},
   "outputs": [
    {
     "data": {
      "image/png": "[encoded data removed]",
      "text/plain": [
       "<Figure size 1152x576 with 8 Axes>"
      ]
     },
     "metadata": {},
     "output_type": "display_data"
    }
   ],
   "source": [
    "plt.figure(figsize=(16,8))\n",
    "\n",
    "plt.subplot(2,2,1)\n",
    "plt.pcolor(east,north,rho_n[:,:,z_plot],cmap=cmap_r,norm = LogNorm(vmin=1, vmax=400))\n",
    "#plt.plot(x1,y1,'ko')\n",
    "#plt.plot(x0,y0,'ro')\n",
    "plt.colorbar()\n",
    "\n",
    "plt.subplot(2,2,2)\n",
    "plt.pcolor(east,north,rho2_m[:,:,z_plot],cmap=cmap_r,norm = LogNorm(vmin=1, vmax=400))\n",
    "#plt.plot(x1,y1,'ko')\n",
    "#plt.plot(x0,y0,'ro')\n",
    "plt.colorbar()\n",
    "\n",
    "plt.subplot(2,2,3)\n",
    "plt.pcolor(east1,depth,rho_n[x_plot,:,:],cmap=cmap_r,norm = LogNorm(vmin=1, vmax=400))\n",
    "plt.ylim(np.max(za),0)\n",
    "plt.colorbar()\n",
    "\n",
    "plt.subplot(2,2,4)\n",
    "plt.pcolor(east1,depth,rho2_m[x_plot,:,:],cmap=cmap_r,norm = LogNorm(vmin=1, vmax=400))\n",
    "plt.ylim(np.max(za),0)\n",
    "plt.colorbar()\n",
    "\n",
    "plt.show()"
   ]
  },
  {
   "cell_type": "code",
   "execution_count": null,
   "metadata": {},
   "outputs": [],
   "source": []
  },
  {
   "cell_type": "code",
   "execution_count": null,
   "metadata": {},
   "outputs": [],
   "source": []
  }
 ],
 "metadata": {
  "kernelspec": {
   "display_name": "Python 3",
   "language": "python",
   "name": "python3"
  },
  "language_info": {
   "codemirror_mode": {
    "name": "ipython",
    "version": 3
   },
   "file_extension": ".py",
   "mimetype": "text/x-python",
   "name": "python",
   "nbconvert_exporter": "python",
   "pygments_lexer": "ipython3",
   "version": "3.6.5"
  }
 },
 "nbformat": 4,
 "nbformat_minor": 2
}
