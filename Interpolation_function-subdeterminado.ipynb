{
 "cells": [
  {
   "cell_type": "code",
   "execution_count": 1,
   "metadata": {},
   "outputs": [],
   "source": [
    "import numpy as np\n",
    "import matplotlib.pyplot as plt\n",
    "from matplotlib import cm\n",
    "import my_functions as mf\n",
    "from matplotlib.colors import LogNorm\n",
    "from matplotlib import cm\n",
    "from scipy.ndimage import gaussian_filter"
   ]
  },
  {
   "cell_type": "code",
   "execution_count": 2,
   "metadata": {},
   "outputs": [],
   "source": [
    "%matplotlib inline"
   ]
  },
  {
   "cell_type": "code",
   "execution_count": 11,
   "metadata": {},
   "outputs": [],
   "source": [
    "xmin = 1.\n",
    "xmax = 110.\n",
    "xn = 20\n",
    "x = np.linspace(xmin,xmax,xn)\n",
    "\n",
    "ymin = 1.\n",
    "ymax = 110.\n",
    "yn = 20\n",
    "y = np.linspace(ymin,ymax,yn)\n",
    "\n",
    "zmin = 1\n",
    "zmax = 110\n",
    "zn =  20\n",
    "z = np.linspace(zmin,zmax,zn)\n",
    "\n",
    "X,Y,Z = np.meshgrid(x,y,z)\n",
    "\n",
    "#rho_m = (((X-5)*(X-5))+((Y-2)*(Y-2))+((Z-10)*(Z-10)))\n",
    "\n",
    "rho_m = 7*X*Y*Z/(X**2 + Y**2 + Z**2)"
   ]
  },
  {
   "cell_type": "code",
   "execution_count": 20,
   "metadata": {},
   "outputs": [],
   "source": [
    "xx,yy,zz,x1,y1,z1,rho = mf.select_area(1,110,1,110,1,120,x,y,z,rho_m)"
   ]
  },
  {
   "cell_type": "code",
   "execution_count": 21,
   "metadata": {},
   "outputs": [
    {
     "name": "stdout",
     "output_type": "stream",
     "text": [
      "19 19 19\n"
     ]
    }
   ],
   "source": [
    "rho1 = np.ravel(rho)\n",
    "lx,ly,lz = rho.shape\n",
    "print(lx,ly,lz)"
   ]
  },
  {
   "cell_type": "code",
   "execution_count": 25,
   "metadata": {},
   "outputs": [],
   "source": [
    "x1min = np.min(x1)\n",
    "y1min = np.min(y1)\n",
    "z1min = np.min(z1)\n",
    "\n",
    "x1max = np.max(x1)\n",
    "y1max = np.max(y1)\n",
    "z1max = np.max(z1)"
   ]
  },
  {
   "cell_type": "code",
   "execution_count": 26,
   "metadata": {},
   "outputs": [
    {
     "data": {
      "image/png": "[encoded data removed]",
      "text/plain": [
       "<Figure size 864x288 with 4 Axes>"
      ]
     },
     "metadata": {},
     "output_type": "display_data"
    }
   ],
   "source": [
    "mx,my = np.meshgrid(y1,x1)\n",
    "mx1,my1 = np.meshgrid(z1,y1)\n",
    "\n",
    "plt.figure(figsize=(12,4))\n",
    "plt.subplot(1,2,1)\n",
    "plt.pcolor(mx,my,rho[:,:,5])\n",
    "plt.colorbar()\n",
    "\n",
    "plt.subplot(1,2,2)\n",
    "plt.pcolor(my1,mx1,rho[5,:,:])\n",
    "\n",
    "plt.colorbar()\n",
    "plt.show()"
   ]
  },
  {
   "cell_type": "code",
   "execution_count": 33,
   "metadata": {},
   "outputs": [],
   "source": [
    "# Control points\n",
    "\n",
    "x1n = 25\n",
    "y1n = 25\n",
    "z1n = 25\n",
    "\n",
    "c1 = np.linspace(xmin,xmax,x1n)+0.5\n",
    "c2 = np.linspace(ymin,ymax,y1n)+0.5\n",
    "c3 = np.linspace(zmin,zmax,z1n)+0.5\n",
    "\n",
    "Xc,Yc,Zc = np.meshgrid(c1,c2,c3)\n",
    "\n",
    "\n",
    "xc = np.ravel(Xc)\n",
    "yc = np.ravel(Yc)\n",
    "zc = np.ravel(Zc)\n",
    "\n",
    "ln = xc.size"
   ]
  },
  {
   "cell_type": "code",
   "execution_count": 34,
   "metadata": {},
   "outputs": [
    {
     "data": {
      "text/plain": [
       "(15625, 15625, 15625)"
      ]
     },
     "execution_count": 34,
     "metadata": {},
     "output_type": "execute_result"
    }
   ],
   "source": [
    "xc.size,yc.size,zc.size"
   ]
  },
  {
   "cell_type": "code",
   "execution_count": 35,
   "metadata": {},
   "outputs": [
    {
     "data": {
      "text/plain": [
       "(6859, 6859, 6859)"
      ]
     },
     "execution_count": 35,
     "metadata": {},
     "output_type": "execute_result"
    }
   ],
   "source": [
    "xx.size,yy.size,zz.size"
   ]
  },
  {
   "cell_type": "code",
   "execution_count": 36,
   "metadata": {},
   "outputs": [],
   "source": [
    "# Calculate interpolation function\n",
    "t = 0.8\n",
    "A = mf.calc_A_by_column(xx,yy,zz,xc,yc,zc,1,t)"
   ]
  },
  {
   "cell_type": "code",
   "execution_count": 45,
   "metadata": {},
   "outputs": [],
   "source": [
    "H = np.dot(A,A.T)"
   ]
  },
  {
   "cell_type": "code",
   "execution_count": 46,
   "metadata": {},
   "outputs": [],
   "source": [
    "h0 = np.trace(H)/ln"
   ]
  },
  {
   "cell_type": "code",
   "execution_count": 47,
   "metadata": {},
   "outputs": [
    {
     "name": "stdout",
     "output_type": "stream",
     "text": [
      "6.744029244898773e-05\n"
     ]
    }
   ],
   "source": [
    "mu = 1E-8*h0\n",
    "print( mu)"
   ]
  },
  {
   "cell_type": "code",
   "execution_count": 54,
   "metadata": {},
   "outputs": [],
   "source": [
    "w = np.linalg.solve(H,rho1)"
   ]
  },
  {
   "cell_type": "code",
   "execution_count": 55,
   "metadata": {},
   "outputs": [],
   "source": [
    "p = np.dot(A.T,w)"
   ]
  },
  {
   "cell_type": "code",
   "execution_count": 57,
   "metadata": {},
   "outputs": [],
   "source": [
    "# #Interpolation points\n",
    "\n",
    "dx1 = (x1[1:]+x1[:-1])/2\n",
    "dy1 = (y1[1:]+y1[:-1])/2\n",
    "dz1 = (z1[1:]+z1[:-1])/2\n",
    "\n",
    "x0n = len(dx1)\n",
    "y0n = len(dy1)\n",
    "z0n = len(dz1)\n",
    "\n",
    "X0,Y0,Z0 = np.meshgrid(dx1,dy1,dz1)\n",
    "\n",
    "\n",
    "x0 = np.ravel(X0)\n",
    "y0 = np.ravel(Y0)\n",
    "z0 = np.ravel(Z0)\n",
    "\n",
    "rho_0real = 7*X0*Y0*Z0/(X0**2 + Y0**2 + Z0**2)"
   ]
  },
  {
   "cell_type": "code",
   "execution_count": 58,
   "metadata": {},
   "outputs": [
    {
     "data": {
      "text/plain": [
       "(5832, 5832, 5832)"
      ]
     },
     "execution_count": 58,
     "metadata": {},
     "output_type": "execute_result"
    }
   ],
   "source": [
    "x0.size,y0.size,z0.size"
   ]
  },
  {
   "cell_type": "code",
   "execution_count": 59,
   "metadata": {},
   "outputs": [
    {
     "data": {
      "text/plain": [
       "(15625, 15625, 15625)"
      ]
     },
     "execution_count": 59,
     "metadata": {},
     "output_type": "execute_result"
    }
   ],
   "source": [
    "xc.size,yc.size,zc.size"
   ]
  },
  {
   "cell_type": "code",
   "execution_count": 62,
   "metadata": {},
   "outputs": [
    {
     "data": {
      "text/plain": [
       "[<matplotlib.lines.Line2D at 0x7f274c541fd0>]"
      ]
     },
     "execution_count": 62,
     "metadata": {},
     "output_type": "execute_result"
    },
    {
     "data": {
      "image/png": "[encoded data removed]",
      "text/plain": [
       "<Figure size 360x360 with 1 Axes>"
      ]
     },
     "metadata": {},
     "output_type": "display_data"
    }
   ],
   "source": [
    "plt.figure(figsize=(5,5))\n",
    "plt.plot(y1,x1,'ko')\n",
    "plt.plot(y0,x0,'go')\n",
    "plt.plot(yc,xc,'ro')"
   ]
  },
  {
   "cell_type": "code",
   "execution_count": 63,
   "metadata": {},
   "outputs": [],
   "source": [
    "t = 0.8"
   ]
  },
  {
   "cell_type": "code",
   "execution_count": 64,
   "metadata": {},
   "outputs": [],
   "source": [
    "# Interpolate funtion rho in points x0, y0, z0\n",
    "\n",
    "A0 = mf.calc_A_by_column(x0,y0,z0,xc,yc,zc,1,t)"
   ]
  },
  {
   "cell_type": "code",
   "execution_count": 69,
   "metadata": {},
   "outputs": [],
   "source": [
    "# Interpolated matrix\n",
    "rho0 = np.dot(A0,p)\n",
    "rho0_m = rho0.reshape((x0n,y0n,z0n))"
   ]
  },
  {
   "cell_type": "code",
   "execution_count": 70,
   "metadata": {},
   "outputs": [
    {
     "data": {
      "image/png": "[encoded data removed]",
      "text/plain": [
       "<Figure size 1008x720 with 12 Axes>"
      ]
     },
     "metadata": {},
     "output_type": "display_data"
    }
   ],
   "source": [
    "mf.plot_function_6sub(50,50,50,dx1,dy1,dz1,dx1,dy1,dz1,rho_0real,rho0_m)"
   ]
  },
  {
   "cell_type": "code",
   "execution_count": null,
   "metadata": {},
   "outputs": [],
   "source": []
  },
  {
   "cell_type": "code",
   "execution_count": null,
   "metadata": {},
   "outputs": [],
   "source": []
  }
 ],
 "metadata": {
  "kernelspec": {
   "display_name": "Python 3",
   "language": "python",
   "name": "python3"
  },
  "language_info": {
   "codemirror_mode": {
    "name": "ipython",
    "version": 3
   },
   "file_extension": ".py",
   "mimetype": "text/x-python",
   "name": "python",
   "nbconvert_exporter": "python",
   "pygments_lexer": "ipython3",
   "version": "3.6.5"
  }
 },
 "nbformat": 4,
 "nbformat_minor": 2
}
